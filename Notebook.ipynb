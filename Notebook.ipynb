{
 "cells": [
  {
   "cell_type": "code",
   "execution_count": 3,
   "metadata": {
    "pycharm": {
     "name": "#%%\n"
    }
   },
   "outputs": [],
   "source": [
    "import ddcs\n",
    "import numpy as np\n",
    "import matplotlib.pyplot as plt"
   ]
  },
  {
   "cell_type": "markdown",
   "metadata": {
    "pycharm": {
     "name": "#%% md\n"
    }
   },
   "source": [
    "## Statistics\n",
    "\n",
    "Get Mean, Median, Standard Deviation, Variance"
   ]
  },
  {
   "cell_type": "code",
   "execution_count": 3,
   "metadata": {
    "pycharm": {
     "name": "#%%\n"
    }
   },
   "outputs": [
    {
     "name": "stdout",
     "output_type": "stream",
     "text": [
      "Mean: 1.7142857142857142\n",
      "Median: 2.0\n",
      "Standard Deviation: 3.498298906339371\n",
      "Variance: 12.238095238095239\n"
     ]
    },
    {
     "data": {
      "text/plain": [
       "(1.7142857142857142, 2.0, 3.498298906339371, 12.238095238095239)"
      ]
     },
     "execution_count": 3,
     "metadata": {},
     "output_type": "execute_result"
    }
   ],
   "source": [
    "x = [-3, 2, 4, 6, -2, 0, 5]\n",
    "ddcs.stats(x)"
   ]
  },
  {
   "cell_type": "markdown",
   "metadata": {
    "pycharm": {
     "name": "#%% md\n"
    }
   },
   "source": [
    "## Distance\n",
    "### Manhattan Distance (Numerical)\n",
    "\n",
    "Calculate the manhattan distance between numerical data points. Also known as 1-norm distance (p = 1)."
   ]
  },
  {
   "cell_type": "code",
   "execution_count": 7,
   "metadata": {
    "pycharm": {
     "name": "#%%\n"
    }
   },
   "outputs": [
    {
     "name": "stdout",
     "output_type": "stream",
     "text": [
      "Manhattan Distance: 11\n"
     ]
    },
    {
     "data": {
      "text/plain": [
       "11"
      ]
     },
     "execution_count": 7,
     "metadata": {},
     "output_type": "execute_result"
    }
   ],
   "source": [
    "arr1 = [4, 5, 6]\n",
    "arr2 = [2, -1, 3]\n",
    "ddcs.manhattan_distance(arr1, arr2)"
   ]
  },
  {
   "cell_type": "markdown",
   "metadata": {
    "pycharm": {
     "name": "#%% md\n"
    }
   },
   "source": [
    "### Euclidean Distance (Numerical)\n",
    "\n",
    "Calculate the euclidean distance between numerical data points. AKA 2-norm distance (p = 2)."
   ]
  },
  {
   "cell_type": "code",
   "execution_count": 9,
   "metadata": {
    "pycharm": {
     "name": "#%%\n"
    }
   },
   "outputs": [
    {
     "name": "stdout",
     "output_type": "stream",
     "text": [
      "Euclidean Distance: 7.0\n"
     ]
    },
    {
     "data": {
      "text/plain": [
       "7.0"
      ]
     },
     "execution_count": 9,
     "metadata": {},
     "output_type": "execute_result"
    }
   ],
   "source": [
    "arr1 = [4, 5, 6]\n",
    "arr2 = [2, -1, 3]\n",
    "ddcs.euclidean_distance(arr1, arr2)"
   ]
  },
  {
   "cell_type": "markdown",
   "metadata": {
    "pycharm": {
     "name": "#%% md\n"
    }
   },
   "source": [
    "### N-norm Distance (Numerical)"
   ]
  },
  {
   "cell_type": "code",
   "execution_count": 10,
   "metadata": {
    "pycharm": {
     "name": "#%%\n"
    }
   },
   "outputs": [
    {
     "name": "stdout",
     "output_type": "stream",
     "text": [
      "3-norm L3: 6.307993548663267\n"
     ]
    },
    {
     "data": {
      "text/plain": [
       "6.307993548663267"
      ]
     },
     "execution_count": 10,
     "metadata": {},
     "output_type": "execute_result"
    }
   ],
   "source": [
    "arr1 = [4, 5, 6]\n",
    "arr2 = [2, -1, 3]\n",
    "n = 3\n",
    "ddcs.n_norm(arr1, arr2, n)"
   ]
  },
  {
   "cell_type": "markdown",
   "metadata": {
    "pycharm": {
     "name": "#%% md\n"
    }
   },
   "source": [
    "### Chebyshev Distance (Numerical)\n",
    "Select the max distance between x and y."
   ]
  },
  {
   "cell_type": "code",
   "execution_count": 2,
   "metadata": {
    "pycharm": {
     "name": "#%%\n"
    }
   },
   "outputs": [
    {
     "name": "stdout",
     "output_type": "stream",
     "text": [
      "Chebyshew Distance: 6\n"
     ]
    },
    {
     "data": {
      "text/plain": [
       "6"
      ]
     },
     "execution_count": 2,
     "metadata": {},
     "output_type": "execute_result"
    }
   ],
   "source": [
    "arr1 = [4, 5, 6]\n",
    "arr2 = [2, -1, 3]\n",
    "ddcs.chebyshev_distance(arr1, arr2)"
   ]
  },
  {
   "cell_type": "markdown",
   "metadata": {
    "pycharm": {
     "name": "#%% md\n"
    }
   },
   "source": [
    "### Hamming Distance (Symbolic)\n",
    "Defined over symbolic data of the same length.\n",
    "Measure the number of substitutions required to change one string/number into another"
   ]
  },
  {
   "cell_type": "code",
   "execution_count": 10,
   "metadata": {
    "pycharm": {
     "name": "#%%\n"
    }
   },
   "outputs": [
    {
     "name": "stdout",
     "output_type": "stream",
     "text": [
      "Hamming Distance: 3\n"
     ]
    },
    {
     "data": {
      "text/plain": [
       "3"
      ]
     },
     "execution_count": 10,
     "metadata": {},
     "output_type": "execute_result"
    }
   ],
   "source": [
    "hamm_str1 = \"weather\"\n",
    "hamm_str2 = \"further\"\n",
    "ddcs.hamming_distance(hamm_str1, hamm_str2)"
   ]
  },
  {
   "cell_type": "markdown",
   "metadata": {
    "pycharm": {
     "name": "#%% md\n"
    }
   },
   "source": [
    "### Levenshtein / Edit Distance (Symbolic)\n",
    "Defined on text data of any length. Measure the minimum number of operations required to transform one sequence of characters onto another. Operations can be: insertion, substitution, deletion."
   ]
  },
  {
   "cell_type": "code",
   "execution_count": 8,
   "metadata": {
    "pycharm": {
     "name": "#%%\n"
    }
   },
   "outputs": [
    {
     "name": "stdout",
     "output_type": "stream",
     "text": [
      "Levenshtein Distance: 4\n"
     ]
    },
    {
     "data": {
      "text/plain": [
       "4"
      ]
     },
     "execution_count": 8,
     "metadata": {},
     "output_type": "execute_result"
    }
   ],
   "source": [
    "edit_str1 = \"water\"\n",
    "edit_str2 = \"further\"\n",
    "ddcs.levenshtein_distance(edit_str1, edit_str2)"
   ]
  },
  {
   "cell_type": "markdown",
   "metadata": {},
   "source": [
    "## Maximum Likelihood\n",
    "### Maximum Likelihood Estimate\n",
    "1. Get the probability under the parameter\n",
    "2. Take the natural log\n",
    "3. Take the derivative\n",
    "4. Set the derivative to 0 and calculate it\n",
    "\n",
    "### When introducing prior\n",
    "1. Get the probability under the parameter\n",
    "2. Multiply the probability and prior\n",
    "3. Take the natural log\n",
    "4. Take the derivative\n",
    "5. Set the derivative to 0 and calculate it"
   ]
  },
  {
   "cell_type": "markdown",
   "metadata": {
    "pycharm": {
     "name": "#%% md\n"
    }
   },
   "source": [
    "## Regression\n",
    "### Linear regression\n",
    "\\begin{align}\n",
    "  {\\mathbf{\\hat{w}}}  &= ({{\\mathbf{X}}^T {\\mathbf{X}}})^{-1} {\\mathbf{X}}^T {\\mathbf{y}}\n",
    "\\end{align}"
   ]
  },
  {
   "cell_type": "code",
   "execution_count": 11,
   "metadata": {
    "pycharm": {
     "name": "#%%\n"
    }
   },
   "outputs": [
    {
     "name": "stdout",
     "output_type": "stream",
     "text": [
      "fit_Wh: \n",
      "[[ 2.525     ]\n",
      " [-7.91284404]]\n",
      "Equation: y = 2.5250000000000004 + -7.912844036697248 x\n"
     ]
    },
    {
     "data": {
      "text/plain": [
       "(2.5250000000000004, -7.912844036697248)"
      ]
     },
     "execution_count": 11,
     "metadata": {},
     "output_type": "execute_result"
    }
   ],
   "source": [
    "linear_Xarr = [-1.0, -0.3, 0.3, 1.0]\n",
    "linear_Yarr = [10.3, 5.3, -0.2, -5.3]\n",
    "ddcs.linear_regression(linear_Xarr, linear_Yarr)"
   ]
  },
  {
   "cell_type": "markdown",
   "metadata": {
    "pycharm": {
     "name": "#%% md\n"
    }
   },
   "source": [
    "### Regularisation\n",
    "\\begin{align}\n",
    "  {\\mathbf{\\hat{W}}} &= ({\\mathbf{X}}^T {\\mathbf{X}} + \\sigma^2 {\\mathbf{\\Lambda}})^{-1} {\\mathbf{X}}^T {\\mathbf{y}}\n",
    "\\end{align}"
   ]
  },
  {
   "cell_type": "code",
   "execution_count": 2,
   "metadata": {
    "pycharm": {
     "name": "#%%\n"
    }
   },
   "outputs": [
    {
     "name": "stdout",
     "output_type": "stream",
     "text": [
      "fit_Wh: \n",
      "[[0.01428571]\n",
      " [2.425     ]]\n",
      "Equation: y = 0.014285714285714318 + 2.425 x\n"
     ]
    },
    {
     "data": {
      "text/plain": [
       "(0.014285714285714318, 2.425)"
      ]
     },
     "execution_count": 2,
     "metadata": {},
     "output_type": "execute_result"
    }
   ],
   "source": [
    "reg_Xarr = [-2, -1, 0, 1, 2]\n",
    "reg_Yarr = [-6.2, -2.6, 0.5, 2.7, 5.7]\n",
    "ddcs.regularised(reg_Xarr, reg_Yarr, sigma=1, lam=2)"
   ]
  },
  {
   "cell_type": "markdown",
   "metadata": {},
   "source": [
    "## Classification\n",
    "### Maximum Likelihood Estimate - Logistic\n",
    "1. Transform logits $\\ell$ by using sigmoid function\n",
    "\\begin{align}\n",
    "  f(\\ell) &= \\text{sigmoid}(\\ell) = \\sigma(\\ell)\\\\\n",
    "  f(\\ell) &= \\frac{1}{1+e^{-\\ell}}\n",
    "\\end{align}\n",
    "\n",
    "2. Calculate the probability for each class\n",
    "\n",
    "For Bernoulli distribution:\n",
    "\\begin{align}\n",
    "  P(Y = 1|\\ell) &= \\frac{1}{1+e^{-\\ell}} \\\\\n",
    "  P(Y = 0|\\ell) &= 1-\\frac{1}{1+e^{-\\ell}} = \\frac{1}{1+e^{\\ell}}\n",
    "\\end{align}\n",
    "\n",
    "3. Take log for each probability\n",
    "\n",
    "For Bernoulli distribution\n",
    "\\begin{align}\n",
    "  log P(Y = 1|\\ell) &= log (\\frac{1}{1+e^{-\\ell}}) = -log (1+e^{-\\ell}) \\\\\n",
    "  log P(Y = 0|\\ell) &= log (1-\\frac{1}{1+e^{-\\ell}}) = -log (1+e^{\\ell})\n",
    "\\end{align}\n",
    "\n",
    "4. Take the derivative\n",
    "5. Set the derivate to 0 and calculate the MLE\n",
    "\n",
    "If we already have data, we can directly use calculated log equiation to get log-likelhood"
   ]
  },
  {
   "cell_type": "code",
   "execution_count": 2,
   "metadata": {},
   "outputs": [
    {
     "name": "stdout",
     "output_type": "stream",
     "text": [
      "Log-Likelihood: -0.0009114664537742015\n"
     ]
    },
    {
     "data": {
      "text/plain": [
       "-0.0009114664537742015"
      ]
     },
     "execution_count": 2,
     "metadata": {},
     "output_type": "execute_result"
    }
   ],
   "source": [
    "l0 = [-53, -46]\n",
    "l1 = [48, 7]\n",
    "ddcs.classification_MLE_two_class(l0, l1)"
   ]
  },
  {
   "cell_type": "markdown",
   "metadata": {},
   "source": [
    "### K-nearest Neighbours\n",
    "1. Calculate the distance between all data points and new data point\n",
    "2. Choose closest K point\n",
    "3. New data point is of class that includes closest K point"
   ]
  },
  {
   "cell_type": "markdown",
   "metadata": {},
   "source": [
    "### Weight-nearest Neighbour"
   ]
  },
  {
   "cell_type": "code",
   "execution_count": 6,
   "metadata": {},
   "outputs": [
    {
     "name": "stdout",
     "output_type": "stream",
     "text": [
      "Weight: 0.03254928098910344\n"
     ]
    },
    {
     "data": {
      "text/plain": [
       "0.03254928098910344"
      ]
     },
     "execution_count": 6,
     "metadata": {},
     "output_type": "execute_result"
    }
   ],
   "source": [
    "ddcs.weight_calculator(13.7, 2)"
   ]
  },
  {
   "cell_type": "code",
   "execution_count": 3,
   "metadata": {},
   "outputs": [
    {
     "name": "stdout",
     "output_type": "stream",
     "text": [
      "E-Step Result: 1/3 * [0.4 0.9]\n"
     ]
    },
    {
     "data": {
      "text/plain": [
       "array([0.13333333, 0.3       ])"
      ]
     },
     "execution_count": 3,
     "metadata": {},
     "output_type": "execute_result"
    }
   ],
   "source": [
    "xs = np.array([\n",
    "            [-3.4, -1.2],\n",
    "            [3.2, 2.1],\n",
    "            [0.6, 0]\n",
    "])\n",
    "ddcs.k_means_e_step(xs)"
   ]
  },
  {
   "cell_type": "markdown",
   "metadata": {},
   "source": [
    "### M-Step\n",
    "\n",
    "Determine the cluster which each data point belongs to. This function only returns the euclidian distance between two datapoints (the centroid and original datapoint)"
   ]
  },
  {
   "cell_type": "code",
   "execution_count": 5,
   "metadata": {},
   "outputs": [
    {
     "name": "stdout",
     "output_type": "stream",
     "text": [
      "Euclidean Distance: 4.151660992903924\n"
     ]
    },
    {
     "data": {
      "text/plain": [
       "4.151660992903924"
      ]
     },
     "execution_count": 5,
     "metadata": {},
     "output_type": "execute_result"
    }
   ],
   "source": [
    "x = np.array([-2.1, -3.2])\n",
    "y = np.array([0.133, 0.3])\n",
    "ddcs.k_means_m_step(x, y)"
   ]
  },
  {
   "cell_type": "markdown",
   "metadata": {},
   "source": [
    "### Full K-Means (one iteration)\n",
    "\n",
    "This function completes one iteration of K-Means clustering.\n",
    "\n",
    "xs is the array of data points and labels is the initialised cluster labels. Optional.\n",
    "\n",
    "k is the number of clusters."
   ]
  },
  {
   "cell_type": "code",
   "execution_count": 4,
   "metadata": {},
   "outputs": [
    {
     "name": "stdout",
     "output_type": "stream",
     "text": [
      "E-Step Result: 1/3 * [0.4 0.9]\n",
      "E-Step Result: 1/3 * [-3.5 -2.3]\n",
      "Euclidean Distance between [-2.1 -3.2] and [0.13333333 0.3       ]: 4.151840288086451\n",
      "Euclidean Distance between [-2.1 -3.2] and [-1.16666667 -0.76666667]: 2.606189214585584\n",
      "Euclidean Distance between [-3.4 -1.2] and [0.13333333 0.3       ]: 3.8385471788743777\n",
      "Euclidean Distance between [-3.4 -1.2] and [-1.16666667 -0.76666667]: 2.2749847374335403\n",
      "Euclidean Distance between [-2.6 -2.7] and [0.13333333 0.3       ]: 4.058461668059846\n",
      "Euclidean Distance between [-2.6 -2.7] and [-1.16666667 -0.76666667]: 2.4067036008246268\n",
      "Euclidean Distance between [3.2 2.1] and [0.13333333 0.3       ]: 3.5559027608252234\n",
      "Euclidean Distance between [3.2 2.1] and [-1.16666667 -0.76666667]: 5.223557748848534\n",
      "Euclidean Distance between [1.2 3.6] and [0.13333333 0.3       ]: 3.4681086744474685\n",
      "Euclidean Distance between [1.2 3.6] and [-1.16666667 -0.76666667]: 4.96677852223037\n",
      "Euclidean Distance between [0.6 0. ] and [0.13333333 0.3       ]: 0.5547772325697745\n",
      "Euclidean Distance between [0.6 0. ] and [-1.16666667 -0.76666667]: 1.9258475767539052\n",
      "New Cluster: \n",
      "Datapoint [-2.1 -3.2], class: 1\n",
      "Datapoint [-3.4 -1.2], class: 1\n",
      "Datapoint [-2.6 -2.7], class: 1\n",
      "Datapoint [3.2 2.1], class: 0\n",
      "Datapoint [1.2 3.6], class: 0\n",
      "Datapoint [0.6 0. ], class: 0\n",
      "New Centroids:\n",
      "Centroid for class 0: [0.13333333 0.3       ]\n",
      "Centroid for class 1: [-1.16666667 -0.76666667]\n"
     ]
    }
   ],
   "source": [
    "xs = np.array([\n",
    "    [-2.1, -3.2],\n",
    "    [-3.4, -1.2],\n",
    "    [-2.6, -2.7],\n",
    "    [3.2, 2.1],\n",
    "    [1.2, 3.6],\n",
    "    [0.6, 0]\n",
    "])\n",
    "labels = np.array([1, 0, 1, 0, 1, 0])\n",
    "k = 2\n",
    "\n",
    "new_cluster, centroids = ddcs.k_means(xs, k, labels)\n",
    "\n",
    "print(\"New Cluster: \")\n",
    "for datapoint in new_cluster:\n",
    "    print(f\"Datapoint {datapoint['x']}, class: {datapoint['label']}\")\n",
    "\n",
    "print(\"New Centroids:\")\n",
    "for centroid in centroids:\n",
    "    print(f\"Centroid for class {centroid['label']}: {centroid['value']}\")\n"
   ]
  },
  {
   "cell_type": "markdown",
   "metadata": {},
   "source": [
    "### Plot Cluster\n",
    "\n",
    "Run above cell before plotting."
   ]
  },
  {
   "cell_type": "code",
   "execution_count": 30,
   "metadata": {},
   "outputs": [
    {
     "name": "stdout",
     "output_type": "stream",
     "text": [
      "[{'label': 1, 'x': array([-2.1, -3.2])}, {'label': 1, 'x': array([-3.4, -1.2])}, {'label': 1, 'x': array([-2.6, -2.7])}, {'label': 0, 'x': array([3.2, 2.1])}, {'label': 0, 'x': array([1.2, 3.6])}, {'label': 0, 'x': array([0.6, 0. ])}]\n",
      "[{'label': 0, 'value': array([0.13333333, 0.3       ]), 0: array([0.13333333, 0.3       ])}, {'label': 1, 'value': array([-1.16666667, -0.76666667]), 1: array([-1.16666667, -0.76666667])}]\n",
      "[0, 1]\n",
      "Cluster 0: [array([3.2, 2.1]), array([1.2, 3.6]), array([0.6, 0. ])]\n",
      "Cluster 1: [array([-2.1, -3.2]), array([-3.4, -1.2]), array([-2.6, -2.7])]\n"
     ]
    },
    {
     "data": {
      "image/png": "[encoded data removed]",
      "text/plain": [
       "<Figure size 432x288 with 1 Axes>"
      ]
     },
     "metadata": {
      "needs_background": "light"
     },
     "output_type": "display_data"
    }
   ],
   "source": [
    "print(new_cluster)\n",
    "print(centroids)\n",
    "\n",
    "labels = list(set([x['label'] for x in new_cluster]))\n",
    "\n",
    "print(labels)\n",
    "\n",
    "cluster = {label: [] for label in labels}\n",
    "centroid_new = {label: [] for label in labels}\n",
    "\n",
    "for point in new_cluster:\n",
    "    cluster[point['label']].append(point['x'])\n",
    "\n",
    "for centroid in centroids:\n",
    "    centroid_new[centroid['label']] = centroid['value']\n",
    "\n",
    "for label in cluster.keys():\n",
    "\n",
    "    print(f\"Cluster {label}: {cluster[label]}\")\n",
    "    x = [x[0] for x in cluster[label]]\n",
    "    y = [x[1] for x in cluster[label]]\n",
    "    plt.plot(centroid_new[label][0], centroid_new[label][1], 'x', label=f\"Centroid for Cluster {label}\")\n",
    "    plt.plot(x, y, 'o', label = f\"Cluster {label}\")\n",
    "plt.legend()\n",
    "plt.show()"
   ]
  },
  {
   "cell_type": "code",
   "execution_count": null,
   "metadata": {},
   "outputs": [],
   "source": []
  }
 ],
 "metadata": {
  "interpreter": {
   "hash": "574cebc13ecaef65034aebaab4f0099db12dda098c70793bde04239a771738dc"
  },
  "kernelspec": {
   "display_name": "Python 3.9.7 64-bit",
   "language": "python",
   "name": "python3"
  },
  "language_info": {
   "codemirror_mode": {
    "name": "ipython",
    "version": 3
   },
   "file_extension": ".py",
   "mimetype": "text/x-python",
   "name": "python",
   "nbconvert_exporter": "python",
   "pygments_lexer": "ipython3",
   "version": "3.9.7"
  }
 },
 "nbformat": 4,
 "nbformat_minor": 1
}
